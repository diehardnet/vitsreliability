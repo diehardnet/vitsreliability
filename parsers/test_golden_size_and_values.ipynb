{
 "cells": [
  {
   "cell_type": "code",
   "id": "initial_id",
   "metadata": {
    "collapsed": true,
    "ExecuteTime": {
     "end_time": "2024-05-21T11:44:41.799907Z",
     "start_time": "2024-05-21T11:44:40.759039Z"
    }
   },
   "source": "import torch",
   "execution_count": 1,
   "outputs": []
  },
  {
   "metadata": {
    "ExecuteTime": {
     "end_time": "2024-05-21T11:44:41.802567Z",
     "start_time": "2024-05-21T11:44:41.800732Z"
    }
   },
   "cell_type": "code",
   "source": [
    "import sys\n",
    "\n",
    "sys.path.extend([\n",
    "    \"/home/fernando/git_research/vitsreliability/GroundingDINO\",\n",
    "    \"/home/fernando/git_research/vitsreliability\",\n",
    "    \"/home/fernando/git_research/libLogHelper/build\",\n",
    "])"
   ],
   "id": "faf4caffe60e400",
   "execution_count": 2,
   "outputs": []
  },
  {
   "metadata": {},
   "cell_type": "markdown",
   "source": "## Test if the maximals is changing anything at the output",
   "id": "694184f128c888b9"
  },
  {
   "metadata": {
    "ExecuteTime": {
     "end_time": "2024-05-21T11:44:41.812089Z",
     "start_time": "2024-05-21T11:44:41.803168Z"
    }
   },
   "cell_type": "code",
   "source": [
    "def count_errors(lhs: torch.Tensor, rhs: torch.Tensor, threshold=None) -> int:\n",
    "    if threshold is not None:\n",
    "        diff_tensor = torch.le(\n",
    "            torch.abs(\n",
    "                torch.subtract(lhs, rhs)\n",
    "            ), threshold\n",
    "        )\n",
    "    else:\n",
    "        diff_tensor = torch.eq(lhs, rhs)\n",
    "    num_differences = torch.sum(diff_tensor == False)\n",
    "\n",
    "    return num_differences.item()"
   ],
   "id": "c9934a8fa0617f41",
   "execution_count": 3,
   "outputs": []
  },
  {
   "metadata": {
    "ExecuteTime": {
     "end_time": "2024-05-21T11:44:44.426488Z",
     "start_time": "2024-05-21T11:44:41.812574Z"
    }
   },
   "cell_type": "code",
   "source": [
    "gold_dino_base_unharded = torch.load(\"../data/groundingdino_swinb_cogcoor_fp32_hardenedid_grounding_dino_8_1.pt\",\n",
    "                                     map_location=torch.device('cpu'))\n",
    "gold_dino_base_maximals = torch.load(\"../data/groundingdino_swinb_cogcoor_fp32_None_grounding_dino_8_1.pt\",\n",
    "                                     map_location=torch.device('cpu'))"
   ],
   "id": "6201066062d7b2b9",
   "execution_count": 4,
   "outputs": []
  },
  {
   "metadata": {
    "ExecuteTime": {
     "end_time": "2024-05-21T11:44:44.431191Z",
     "start_time": "2024-05-21T11:44:44.428774Z"
    }
   },
   "cell_type": "code",
   "source": "",
   "id": "86934c2304b4d358",
   "execution_count": 4,
   "outputs": []
  },
  {
   "metadata": {
    "ExecuteTime": {
     "end_time": "2024-05-21T11:44:44.434936Z",
     "start_time": "2024-05-21T11:44:44.432005Z"
    }
   },
   "cell_type": "code",
   "source": [
    "golden_h, input_list_h, gt_targets_h, model_h, input_captions_h, text_encoder_type_h, coco_api_h, map_list_h = gold_dino_base_maximals\n",
    "golden_u, input_list_u, gt_targets_u, model_u, input_captions_u, text_encoder_type_u, coco_api_u, map_list_u = gold_dino_base_unharded\n"
   ],
   "id": "68df0f6f0557e43d",
   "execution_count": 5,
   "outputs": []
  },
  {
   "metadata": {
    "ExecuteTime": {
     "end_time": "2024-05-21T11:44:44.436757Z",
     "start_time": "2024-05-21T11:44:44.435491Z"
    }
   },
   "cell_type": "code",
   "source": "",
   "id": "1744b84a47cd5f9f",
   "execution_count": 5,
   "outputs": []
  },
  {
   "metadata": {
    "ExecuteTime": {
     "end_time": "2024-05-21T11:44:44.476552Z",
     "start_time": "2024-05-21T11:44:44.437334Z"
    }
   },
   "cell_type": "code",
   "source": [
    "for g_h, g_u in zip(golden_h, golden_u):\n",
    "    for (k_gh, v_gh), (k_gu, v_gu) in zip(g_h.items(), g_u.items()):\n",
    "        errors = count_errors(lhs=v_gh, rhs=v_gu)\n",
    "        if errors != 0:\n",
    "            print(\"Errors for\", k_gh, \" -- \", errors, \"are keys equal\", k_gh == k_gu)"
   ],
   "id": "45a8604b207f98b6",
   "execution_count": 6,
   "outputs": []
  },
  {
   "metadata": {},
   "cell_type": "markdown",
   "source": "## Testing if the geommetry parser works",
   "id": "4b6a1410f730f187"
  },
  {
   "metadata": {
    "ExecuteTime": {
     "end_time": "2024-05-21T11:57:41.021650Z",
     "start_time": "2024-05-21T11:57:41.019427Z"
    }
   },
   "cell_type": "code",
   "source": [
    "import geometry_parser\n",
    "import copy\n",
    "import numpy"
   ],
   "id": "db7d57371cf79607",
   "execution_count": 18,
   "outputs": []
  },
  {
   "metadata": {
    "ExecuteTime": {
     "end_time": "2024-05-21T12:00:15.775069Z",
     "start_time": "2024-05-21T12:00:15.771605Z"
    }
   },
   "cell_type": "code",
   "source": [
    "def get_highest_geometry(golden, output):\n",
    "    geometry_type = geometry_parser.ErrorGeometry.MASKED\n",
    "    threshold = 0.0\n",
    "    for batch_out, batch_golden in zip(golden, output):\n",
    "        # Compute the absolute difference\n",
    "        diff = torch.abs(batch_out - batch_golden).numpy()\n",
    "        # Create a boolean tensor where the difference exceeds the threshold\n",
    "        diff_exceeds_threshold = diff > threshold\n",
    "        print(numpy.sum(diff_exceeds_threshold))\n",
    "        # Convert the boolean tensor to an integer tensor of zeros and ones\n",
    "        result_matrix = diff_exceeds_threshold.astype(numpy.uint8)\n",
    "        current_geometry = geometry_parser.geometry_comparison(diff=result_matrix)\n",
    "        if geometry_type < current_geometry:\n",
    "            print(\"passou\", current_geometry)\n",
    "            geometry_type = current_geometry\n",
    "    return geometry_type"
   ],
   "id": "3c67aabc4edfb308",
   "execution_count": 23,
   "outputs": []
  },
  {
   "metadata": {
    "ExecuteTime": {
     "end_time": "2024-05-21T12:00:16.163716Z",
     "start_time": "2024-05-21T12:00:16.153196Z"
    }
   },
   "cell_type": "code",
   "source": [
    "test_array_1 = torch.randn(4, 12, 12, 1024)\n",
    "test_array_2 = copy.deepcopy(test_array_1)\n",
    "test_array_2[2, 2, 3, 2] *= 2\n",
    "print(get_highest_geometry(golden=test_array_1, output=test_array_2))"
   ],
   "id": "5e1b5c98346a7adc",
   "execution_count": 24,
   "outputs": []
  },
  {
   "metadata": {
    "ExecuteTime": {
     "end_time": "2024-05-21T11:46:56.933523Z",
     "start_time": "2024-05-21T11:46:56.927058Z"
    }
   },
   "cell_type": "code",
   "source": "test_array_2[2, 2, 3].shape",
   "id": "8af456afb93ace87",
   "execution_count": 10,
   "outputs": []
  },
  {
   "metadata": {
    "ExecuteTime": {
     "end_time": "2024-05-21T11:47:10.044250Z",
     "start_time": "2024-05-21T11:47:10.039800Z"
    }
   },
   "cell_type": "code",
   "source": "test_array_2[2, 2].shape",
   "id": "34f740c91c5eea0",
   "execution_count": 11,
   "outputs": []
  },
  {
   "metadata": {},
   "cell_type": "code",
   "execution_count": null,
   "source": "",
   "id": "8f62ddbe09905f15",
   "outputs": []
  }
 ],
 "metadata": {
  "kernelspec": {
   "display_name": "Python 3",
   "language": "python",
   "name": "python3"
  },
  "language_info": {
   "codemirror_mode": {
    "name": "ipython",
    "version": 2
   },
   "file_extension": ".py",
   "mimetype": "text/x-python",
   "name": "python",
   "nbconvert_exporter": "python",
   "pygments_lexer": "ipython2",
   "version": "2.7.6"
  }
 },
 "nbformat": 4,
 "nbformat_minor": 5
}
