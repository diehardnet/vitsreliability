{
 "cells": [
  {
   "cell_type": "code",
   "execution_count": 1,
   "id": "initial_id",
   "metadata": {
    "ExecuteTime": {
     "end_time": "2024-05-21T11:44:41.799907Z",
     "start_time": "2024-05-21T11:44:40.759039Z"
    },
    "collapsed": true
   },
   "outputs": [],
   "source": [
    "import torch"
   ]
  },
  {
   "cell_type": "code",
   "execution_count": 11,
   "id": "faf4caffe60e400",
   "metadata": {
    "ExecuteTime": {
     "end_time": "2024-05-21T11:44:41.802567Z",
     "start_time": "2024-05-21T11:44:41.800732Z"
    }
   },
   "outputs": [],
   "source": [
    "import sys\n",
    "\n",
    "sys.path.extend([\n",
    "    \"/home/carol/vitsreliability/GroundingDINO\",\n",
    "    \"/home/carol/vitsreliability\",\n",
    "    \"/home/carol/libLogHelper/build\",\n",
    "])"
   ]
  },
  {
   "cell_type": "markdown",
   "id": "694184f128c888b9",
   "metadata": {},
   "source": [
    "## Test if the maximals is changing anything at the output"
   ]
  },
  {
   "cell_type": "code",
   "execution_count": 12,
   "id": "c9934a8fa0617f41",
   "metadata": {
    "ExecuteTime": {
     "end_time": "2024-05-21T11:44:41.812089Z",
     "start_time": "2024-05-21T11:44:41.803168Z"
    }
   },
   "outputs": [],
   "source": [
    "def count_errors(lhs: torch.Tensor, rhs: torch.Tensor, threshold=None) -> int:\n",
    "    if threshold is not None:\n",
    "        diff_tensor = torch.le(\n",
    "            torch.abs(\n",
    "                torch.subtract(lhs, rhs)\n",
    "            ), threshold\n",
    "        )\n",
    "    else:\n",
    "        diff_tensor = torch.eq(lhs, rhs)\n",
    "    num_differences = torch.sum(diff_tensor == False)\n",
    "\n",
    "    return num_differences.item()"
   ]
  },
  {
   "cell_type": "code",
   "execution_count": 13,
   "id": "6201066062d7b2b9",
   "metadata": {
    "ExecuteTime": {
     "end_time": "2024-05-21T11:44:44.426488Z",
     "start_time": "2024-05-21T11:44:41.812574Z"
    }
   },
   "outputs": [],
   "source": [
    "gold_vit_base_maximals = torch.load(\"../data/deit_base_patch16_224_fp16_hardenedid_vits_32_8.pt\")\n",
    "gold_vit_base_unharded = torch.load(\"../data/deit_base_patch16_224_fp16_None_vits_32_8.pt\")"
   ]
  },
  {
   "cell_type": "code",
   "execution_count": 4,
   "id": "86934c2304b4d358",
   "metadata": {
    "ExecuteTime": {
     "end_time": "2024-05-21T11:44:44.431191Z",
     "start_time": "2024-05-21T11:44:44.428774Z"
    }
   },
   "outputs": [],
   "source": []
  },
  {
   "cell_type": "code",
   "execution_count": 15,
   "id": "68df0f6f0557e43d",
   "metadata": {
    "ExecuteTime": {
     "end_time": "2024-05-21T11:44:44.434936Z",
     "start_time": "2024-05-21T11:44:44.432005Z"
    }
   },
   "outputs": [],
   "source": [
    "golden_h, input_list_h, gt_targets_h, model_h, golden_selected_samples_h = gold_vit_base_maximals\n",
    "golden_u, input_list_u, gt_targets_u, model_u, golden_selected_samples_u = gold_vit_base_unharded\n"
   ]
  },
  {
   "cell_type": "code",
   "execution_count": 28,
   "id": "1744b84a47cd5f9f",
   "metadata": {
    "ExecuteTime": {
     "end_time": "2024-05-21T11:44:44.436757Z",
     "start_time": "2024-05-21T11:44:44.435491Z"
    }
   },
   "outputs": [
    {
     "name": "stdout",
     "output_type": "stream",
     "text": [
      "Errors: 0\n",
      "Errors: 0\n",
      "Errors: 0\n",
      "Errors: 0\n"
     ]
    }
   ],
   "source": [
    "for g_h, g_u in zip(golden_h, golden_u):\n",
    "    errors = count_errors(lhs=g_h, rhs=g_u, threshold=1e-2)\n",
    "    print(f\"Errors: {errors}\")"
   ]
  },
  {
   "cell_type": "code",
   "execution_count": 18,
   "id": "45a8604b207f98b6",
   "metadata": {
    "ExecuteTime": {
     "end_time": "2024-05-21T11:44:44.476552Z",
     "start_time": "2024-05-21T11:44:44.437334Z"
    }
   },
   "outputs": [
    {
     "ename": "AttributeError",
     "evalue": "'list' object has no attribute 'items'",
     "output_type": "error",
     "traceback": [
      "\u001b[0;31m---------------------------------------------------------------------------\u001b[0m",
      "\u001b[0;31mAttributeError\u001b[0m                            Traceback (most recent call last)",
      "Cell \u001b[0;32mIn[18], line 3\u001b[0m\n\u001b[1;32m      1\u001b[0m \u001b[38;5;28;01mfor\u001b[39;00m g_h, g_u \u001b[38;5;129;01min\u001b[39;00m \u001b[38;5;28mzip\u001b[39m(golden_h, golden_u):\n\u001b[1;32m      2\u001b[0m     g_h, g_u \u001b[38;5;241m=\u001b[39m g_h\u001b[38;5;241m.\u001b[39mtolist(), g_u\u001b[38;5;241m.\u001b[39mtolist()\n\u001b[0;32m----> 3\u001b[0m     \u001b[38;5;28;01mfor\u001b[39;00m (k_gh, v_gh), (k_gu, v_gu) \u001b[38;5;129;01min\u001b[39;00m \u001b[38;5;28mzip\u001b[39m(\u001b[43mg_h\u001b[49m\u001b[38;5;241;43m.\u001b[39;49m\u001b[43mitems\u001b[49m(), g_u\u001b[38;5;241m.\u001b[39mitems()):\n\u001b[1;32m      4\u001b[0m         errors \u001b[38;5;241m=\u001b[39m count_errors(lhs\u001b[38;5;241m=\u001b[39mv_gh, rhs\u001b[38;5;241m=\u001b[39mv_gu)\n\u001b[1;32m      5\u001b[0m         \u001b[38;5;28;01mif\u001b[39;00m errors \u001b[38;5;241m!=\u001b[39m \u001b[38;5;241m0\u001b[39m:\n",
      "\u001b[0;31mAttributeError\u001b[0m: 'list' object has no attribute 'items'"
     ]
    }
   ],
   "source": [
    "for g_h, g_u in zip(golden_h, golden_u):\n",
    "    for (k_gh, v_gh), (k_gu, v_gu) in zip(g_h.items(), g_u.items()):\n",
    "        errors = count_errors(lhs=v_gh, rhs=v_gu)\n",
    "        if errors != 0:\n",
    "            print(\"Errors for\", k_gh, \" -- \", errors, \"are keys equal\", k_gh == k_gu)"
   ]
  },
  {
   "cell_type": "markdown",
   "id": "4b6a1410f730f187",
   "metadata": {},
   "source": [
    "## Testing if the geommetry parser works"
   ]
  },
  {
   "cell_type": "code",
   "execution_count": 18,
   "id": "db7d57371cf79607",
   "metadata": {
    "ExecuteTime": {
     "end_time": "2024-05-21T11:57:41.021650Z",
     "start_time": "2024-05-21T11:57:41.019427Z"
    }
   },
   "outputs": [],
   "source": [
    "import geometry_parser\n",
    "import copy\n",
    "import numpy"
   ]
  },
  {
   "cell_type": "code",
   "execution_count": 23,
   "id": "3c67aabc4edfb308",
   "metadata": {
    "ExecuteTime": {
     "end_time": "2024-05-21T12:00:15.775069Z",
     "start_time": "2024-05-21T12:00:15.771605Z"
    }
   },
   "outputs": [],
   "source": [
    "def get_highest_geometry(golden, output):\n",
    "    geometry_type = geometry_parser.ErrorGeometry.MASKED\n",
    "    threshold = 0.0\n",
    "    for batch_out, batch_golden in zip(golden, output):\n",
    "        # Compute the absolute difference\n",
    "        diff = torch.abs(batch_out - batch_golden).numpy()\n",
    "        # Create a boolean tensor where the difference exceeds the threshold\n",
    "        diff_exceeds_threshold = diff > threshold\n",
    "        print(numpy.sum(diff_exceeds_threshold))\n",
    "        # Convert the boolean tensor to an integer tensor of zeros and ones\n",
    "        result_matrix = diff_exceeds_threshold.astype(numpy.uint8)\n",
    "        current_geometry = geometry_parser.geometry_comparison(diff=result_matrix)\n",
    "        if geometry_type < current_geometry:\n",
    "            print(\"passou\", current_geometry)\n",
    "            geometry_type = current_geometry\n",
    "    return geometry_type"
   ]
  },
  {
   "cell_type": "code",
   "execution_count": 24,
   "id": "5e1b5c98346a7adc",
   "metadata": {
    "ExecuteTime": {
     "end_time": "2024-05-21T12:00:16.163716Z",
     "start_time": "2024-05-21T12:00:16.153196Z"
    }
   },
   "outputs": [
    {
     "name": "stdout",
     "output_type": "stream",
     "text": [
      "0\n",
      "0\n",
      "1\n",
      "passou SINGLE\n",
      "0\n",
      "SINGLE\n"
     ]
    }
   ],
   "source": [
    "test_array_1 = torch.randn(4, 12, 12, 1024)\n",
    "test_array_2 = copy.deepcopy(test_array_1)\n",
    "test_array_2[2, 2, 3, 2] *= 2\n",
    "print(get_highest_geometry(golden=test_array_1, output=test_array_2))"
   ]
  },
  {
   "cell_type": "code",
   "execution_count": 10,
   "id": "8af456afb93ace87",
   "metadata": {
    "ExecuteTime": {
     "end_time": "2024-05-21T11:46:56.933523Z",
     "start_time": "2024-05-21T11:46:56.927058Z"
    }
   },
   "outputs": [
    {
     "data": {
      "text/plain": [
       "torch.Size([1024])"
      ]
     },
     "execution_count": 10,
     "metadata": {},
     "output_type": "execute_result"
    }
   ],
   "source": [
    "test_array_2[2, 2, 3].shape"
   ]
  },
  {
   "cell_type": "code",
   "execution_count": 11,
   "id": "34f740c91c5eea0",
   "metadata": {
    "ExecuteTime": {
     "end_time": "2024-05-21T11:47:10.044250Z",
     "start_time": "2024-05-21T11:47:10.039800Z"
    }
   },
   "outputs": [
    {
     "data": {
      "text/plain": [
       "torch.Size([12, 1024])"
      ]
     },
     "execution_count": 11,
     "metadata": {},
     "output_type": "execute_result"
    }
   ],
   "source": [
    "test_array_2[2, 2].shape"
   ]
  },
  {
   "cell_type": "code",
   "execution_count": null,
   "id": "8f62ddbe09905f15",
   "metadata": {},
   "outputs": [],
   "source": []
  }
 ],
 "metadata": {
  "kernelspec": {
   "display_name": "Python 3",
   "language": "python",
   "name": "python3"
  },
  "language_info": {
   "codemirror_mode": {
    "name": "ipython",
    "version": 3
   },
   "file_extension": ".py",
   "mimetype": "text/x-python",
   "name": "python",
   "nbconvert_exporter": "python",
   "pygments_lexer": "ipython3",
   "version": "3.10.12"
  }
 },
 "nbformat": 4,
 "nbformat_minor": 5
}
